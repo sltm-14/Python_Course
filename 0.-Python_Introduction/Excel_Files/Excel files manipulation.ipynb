{
 "cells": [
  {
   "cell_type": "code",
   "execution_count": 2,
   "metadata": {},
   "outputs": [
    {
     "name": "stdout",
     "output_type": "stream",
     "text": [
      "<xlrd.book.Book object at 0x0000013F5340CD08>\n"
     ]
    }
   ],
   "source": [
    "import xlrd\n",
    "xls_file = xlrd.open_workbook('excel_file_example.xlsx')\n",
    "\n",
    "print(xls_file)     # This is only to be sure that we get the Excel file."
   ]
  },
  {
   "cell_type": "code",
   "execution_count": 3,
   "metadata": {},
   "outputs": [
    {
     "name": "stdout",
     "output_type": "stream",
     "text": [
      "['Hoja1']\n"
     ]
    }
   ],
   "source": [
    "\"\"\"It is necessary to specify the sheet which we want to work. \n",
    "If we don't know the name of the available Excel sheets we\n",
    "can ask for the them.\"\"\"\n",
    "\n",
    "print(xls_file.sheet_names())"
   ]
  },
  {
   "cell_type": "code",
   "execution_count": 6,
   "metadata": {},
   "outputs": [
    {
     "name": "stdout",
     "output_type": "stream",
     "text": [
      "13 3\n"
     ]
    }
   ],
   "source": [
    "\"\"\"We need to know the boundaries of the Excel sheet. To get this information we\n",
    "can use whatever of the next options.\"\"\"\n",
    "\n",
    "#file_shape = xls_file.sheet_by_name('Hoja1')\n",
    "\n",
    "data = xls_file.sheet_by_index(0)\n",
    "\n",
    "print(data.nrows, data.ncols)"
   ]
  },
  {
   "cell_type": "code",
   "execution_count": 7,
   "metadata": {},
   "outputs": [
    {
     "name": "stdout",
     "output_type": "stream",
     "text": [
      "Type\n"
     ]
    }
   ],
   "source": [
    "print(data.cell(0, 1).value)"
   ]
  },
  {
   "cell_type": "code",
   "execution_count": null,
   "metadata": {},
   "outputs": [],
   "source": []
  }
 ],
 "metadata": {
  "kernelspec": {
   "display_name": "Python 3",
   "language": "python",
   "name": "python3"
  },
  "language_info": {
   "codemirror_mode": {
    "name": "ipython",
    "version": 3
   },
   "file_extension": ".py",
   "mimetype": "text/x-python",
   "name": "python",
   "nbconvert_exporter": "python",
   "pygments_lexer": "ipython3",
   "version": "3.7.4"
  }
 },
 "nbformat": 4,
 "nbformat_minor": 2
}
